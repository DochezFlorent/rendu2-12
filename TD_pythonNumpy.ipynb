{
 "cells": [
  {
   "cell_type": "markdown",
   "metadata": {},
   "source": [
    "## Exercice 1.1"
   ]
  },
  {
   "cell_type": "code",
   "execution_count": 2,
   "metadata": {},
   "outputs": [
    {
     "data": {
      "text/plain": [
       "array([ 0,  3,  6,  9, 12, 15, 18, 21, 24, 27, 30, 33, 36, 39, 42, 45, 48,\n",
       "       51, 54, 57, 60, 63, 66, 69, 72, 75, 78, 81, 84, 87, 90, 93, 96, 99])"
      ]
     },
     "execution_count": 2,
     "metadata": {},
     "output_type": "execute_result"
    }
   ],
   "source": [
    "import numpy as np\n",
    "a = np.arange(0,100,3)\n",
    "a"
   ]
  },
  {
   "cell_type": "markdown",
   "metadata": {},
   "source": [
    "## Exercice 1.2"
   ]
  },
  {
   "cell_type": "code",
   "execution_count": 2,
   "metadata": {},
   "outputs": [
    {
     "data": {
      "text/plain": [
       "array([ 0.00000000e+00,  1.00000000e+00, -2.20436424e-15,  1.00000000e+00,\n",
       "       -8.81745695e-15,  1.00000000e+00, -4.11555602e-14,  1.00000000e+00,\n",
       "       -3.52698278e-14,  1.00000000e+00, -7.64253880e-14,  1.00000000e+00,\n",
       "       -1.64622241e-13,  1.00000000e+00, -1.86173549e-13,  1.00000000e+00,\n",
       "       -1.41079311e-13,  1.00000000e+00, -4.84086880e-13,  1.00000000e+00,\n",
       "       -3.05701552e-13,  1.00000000e+00, -6.06706795e-14,  1.00000000e+00,\n",
       "       -6.58488964e-13,  1.00000000e+00, -1.18966170e-12,  1.00000000e+00,\n",
       "       -7.44694194e-13,  1.00000000e+00, -1.14257584e-12,  1.00000000e+00,\n",
       "       -5.64317245e-13,  1.00000000e+00])"
      ]
     },
     "execution_count": 2,
     "metadata": {},
     "output_type": "execute_result"
    }
   ],
   "source": [
    "#Multiplie a par son carré\n",
    "b = a**2\n",
    "#Multiplie par pi/2\n",
    "b = b*(np.pi/2)\n",
    "#Calcule le sinus des valeurs de b\n",
    "b = np.sin(b)\n",
    "b"
   ]
  },
  {
   "cell_type": "markdown",
   "metadata": {},
   "source": [
    "### Exercice 1.3"
   ]
  },
  {
   "cell_type": "code",
   "execution_count": 3,
   "metadata": {},
   "outputs": [
    {
     "data": {
      "text/plain": [
       "1.0"
      ]
     },
     "execution_count": 3,
     "metadata": {},
     "output_type": "execute_result"
    }
   ],
   "source": [
    "maxMatB = np.max(b)\n",
    "maxMatB"
   ]
  },
  {
   "cell_type": "markdown",
   "metadata": {},
   "source": [
    "### Exercice 1.4\n",
    "2 Solutions :"
   ]
  },
  {
   "cell_type": "code",
   "execution_count": 4,
   "metadata": {},
   "outputs": [
    {
     "data": {
      "text/plain": [
       "17"
      ]
     },
     "execution_count": 4,
     "metadata": {},
     "output_type": "execute_result"
    }
   ],
   "source": [
    "compteur = 0\n",
    "for i in b:\n",
    "    if(i == maxMatB):\n",
    "        compteur += 1\n",
    "compteur\n",
    "        "
   ]
  },
  {
   "cell_type": "code",
   "execution_count": 5,
   "metadata": {},
   "outputs": [
    {
     "data": {
      "text/plain": [
       "17"
      ]
     },
     "execution_count": 5,
     "metadata": {},
     "output_type": "execute_result"
    }
   ],
   "source": [
    "nb_maxInB = sum(b== maxMatB)\n",
    "nb_maxInB"
   ]
  },
  {
   "cell_type": "markdown",
   "metadata": {},
   "source": [
    "### Exercice 2.1"
   ]
  },
  {
   "cell_type": "code",
   "execution_count": 17,
   "metadata": {},
   "outputs": [],
   "source": [
    "notDiag = [[1,2,3],[4,5,6],[7,8,9]]\n",
    "diag = [[1,0,0],[0,5,0],[0,0,9]]\n",
    "diag_triang_sup = [[1,2,3],[0,5,6],[0,0,9]]"
   ]
  },
  {
   "cell_type": "code",
   "execution_count": 18,
   "metadata": {},
   "outputs": [],
   "source": [
    "def est_diagonale(matrix):\n",
    "    to_test = np.triu(np.tril(matrix))\n",
    "    if(matrix== to_test).all():\n",
    "        return True\n",
    "    else:\n",
    "        return False\n",
    "    "
   ]
  },
  {
   "cell_type": "code",
   "execution_count": 19,
   "metadata": {},
   "outputs": [
    {
     "name": "stdout",
     "output_type": "stream",
     "text": [
      "False\n"
     ]
    },
    {
     "data": {
      "text/plain": [
       "True"
      ]
     },
     "execution_count": 19,
     "metadata": {},
     "output_type": "execute_result"
    }
   ],
   "source": [
    "print(est_diagonale(notDiag))\n",
    "est_diagonale(diag)"
   ]
  },
  {
   "cell_type": "markdown",
   "metadata": {},
   "source": [
    "### Exercice 2.2"
   ]
  },
  {
   "cell_type": "code",
   "execution_count": 20,
   "metadata": {},
   "outputs": [],
   "source": [
    "def est_triangulaire_sup(matrix):\n",
    "    to_test = np.triu(matrix)\n",
    "    if(matrix == to_test).all():\n",
    "        return True\n",
    "    else:\n",
    "        return False"
   ]
  },
  {
   "cell_type": "code",
   "execution_count": 24,
   "metadata": {},
   "outputs": [
    {
     "name": "stdout",
     "output_type": "stream",
     "text": [
      "True\n",
      "True\n",
      "False\n"
     ]
    }
   ],
   "source": [
    "print(est_triangulaire_sup(diag_triang_sup))\n",
    "print(est_triangulaire_sup(diag))\n",
    "print(est_triangulaire_sup(notDiag))"
   ]
  },
  {
   "cell_type": "markdown",
   "metadata": {},
   "source": [
    "### Exercice 3.1"
   ]
  },
  {
   "cell_type": "code",
   "execution_count": 13,
   "metadata": {},
   "outputs": [
    {
     "name": "stdout",
     "output_type": "stream",
     "text": [
      "[[1, 0, 0, 0, 0, 0, 0, 1], [1, 0, 0, 0, 0, 0, 0, 1], [1, 0, 0, 0, 0, 0, 0, 1], [1, 0, 0, 0, 0, 0, 0, 1], [1, 0, 0, 0, 0, 0, 0, 1], [1, 0, 0, 0, 0, 0, 0, 1], [1, 0, 0, 0, 0, 0, 0, 1], [1, 1, 1, 1, 1, 1, 1, 1]]\n"
     ]
    }
   ],
   "source": [
    "i = 0;\n",
    "j = 0;\n",
    "k = 0;\n",
    "tableau = [] \n",
    "for k in range(8):\n",
    "    tableau.append([0] * 8) \n",
    "for i in range(8):\n",
    "    for j in range(8):\n",
    "        if j == 7:\n",
    "            tableau[i][j] = 1\n",
    "        if i == 7:\n",
    "            tableau[i][j] = 1\n",
    "        if j == 0:\n",
    "            tableau[i][j] = 1\n",
    "print(tableau)"
   ]
  },
  {
   "cell_type": "code",
   "execution_count": 22,
   "metadata": {},
   "outputs": [
    {
     "data": {
      "text/plain": [
       "array([[1, 0, 0, 0, 0, 0, 0, 1],\n",
       "       [1, 0, 0, 0, 0, 0, 0, 1],\n",
       "       [1, 0, 0, 0, 0, 0, 0, 1],\n",
       "       [1, 0, 0, 0, 0, 0, 0, 1],\n",
       "       [1, 0, 0, 0, 0, 0, 0, 1],\n",
       "       [1, 0, 0, 0, 0, 0, 0, 1],\n",
       "       [1, 0, 0, 0, 0, 0, 0, 1],\n",
       "       [1, 1, 1, 1, 1, 1, 1, 1]])"
      ]
     },
     "execution_count": 22,
     "metadata": {},
     "output_type": "execute_result"
    }
   ],
   "source": [
    "np.array([[1, 0, 0, 0, 0, 0, 0, 1],[1, 0, 0, 0, 0, 0, 0, 1],[1, 0, 0, 0, 0, 0, 0, 1],[1, 0, 0, 0, 0, 0, 0, 1],[1, 0, 0, 0, 0, 0, 0, 1],[1, 0, 0, 0, 0, 0, 0, 1],[1, 0, 0, 0, 0, 0, 0, 1],[1, 1, 1, 1, 1, 1, 1, 1]])"
   ]
  },
  {
   "cell_type": "code",
   "execution_count": null,
   "metadata": {},
   "outputs": [],
   "source": []
  },
  {
   "cell_type": "code",
   "execution_count": 9,
   "metadata": {},
   "outputs": [
    {
     "name": "stdout",
     "output_type": "stream",
     "text": [
      "49999995000000\n",
      "1.2026829719543457\n"
     ]
    }
   ],
   "source": [
    "import time\n",
    "nb = 0\n",
    "start = time.time()\n",
    "for i in range(1000000):\n",
    "    nb = i + nb\n",
    "print(nb)\n",
    "elapsed = (time.time() - start)\n",
    "print(elapsed)"
   ]
  },
  {
   "cell_type": "code",
   "execution_count": 28,
   "metadata": {},
   "outputs": [
    {
     "name": "stdout",
     "output_type": "stream",
     "text": [
      "5.467503309249878\n"
     ]
    }
   ],
   "source": [
    "start = time.time()\n",
    "pwet = np.arange(0,1000000000)\n",
    "np.sum([pwet])\n",
    "elapsed = (time.time() - start)\n",
    "print(elapsed)"
   ]
  },
  {
   "cell_type": "code",
   "execution_count": 60,
   "metadata": {},
   "outputs": [
    {
     "name": "stdout",
     "output_type": "stream",
     "text": [
      "0.8805721938957679\n"
     ]
    }
   ],
   "source": [
    "ex5 = np.random.rand(50,50)\n",
    "max = 0\n",
    "for i in range(49):\n",
    "    for j in range(49):\n",
    "        if max < ex5[j+1][i]-ex5[i][j]:\n",
    "            max = ex5[i][j]\n",
    "print(max)"
   ]
  },
  {
   "cell_type": "code",
   "execution_count": 4,
   "metadata": {},
   "outputs": [
    {
     "name": "stdout",
     "output_type": "stream",
     "text": [
      "1243\n",
      "[[1. 0. 0. ... 1. 0. 0.]\n",
      " [1. 0. 1. ... 0. 0. 1.]\n",
      " [0. 1. 0. ... 0. 1. 0.]\n",
      " ...\n",
      " [0. 1. 0. ... 0. 1. 1.]\n",
      " [1. 0. 0. ... 0. 0. 1.]\n",
      " [0. 0. 0. ... 0. 1. 0.]]\n"
     ]
    }
   ],
   "source": [
    "ex6 = np.random.rand(50,50)\n",
    "test = 0;\n",
    "for i in range(50):\n",
    "    for j in range(50):\n",
    "        if ex6[i][j] > 0.5:\n",
    "            test = test + 1\n",
    "            ex6[i][j] = 0\n",
    "        else:\n",
    "            ex6[i][j] = 1\n",
    "print(test)\n",
    "print(ex6)"
   ]
  },
  {
   "cell_type": "code",
   "execution_count": 66,
   "metadata": {},
   "outputs": [
    {
     "name": "stdout",
     "output_type": "stream",
     "text": [
      "[-0.5  0.  -0.5  1. ]\n"
     ]
    }
   ],
   "source": [
    "a= np.array([[1,2,1,1],[0,1,2,1],[1,0,1,2],[2,1,0,1]]) \n",
    "b=np.array([0,0,1,0])\n",
    "x = np.linalg.solve(a, b)\n",
    "print(x)\n",
    "\n"
   ]
  },
  {
   "cell_type": "code",
   "execution_count": null,
   "metadata": {},
   "outputs": [],
   "source": [
    "matricec = nptriu(matricec)"
   ]
  }
 ],
 "metadata": {
  "kernelspec": {
   "display_name": "Python 3",
   "language": "python",
   "name": "python3"
  },
  "language_info": {
   "codemirror_mode": {
    "name": "ipython",
    "version": 3
   },
   "file_extension": ".py",
   "mimetype": "text/x-python",
   "name": "python",
   "nbconvert_exporter": "python",
   "pygments_lexer": "ipython3",
   "version": "3.7.0"
  }
 },
 "nbformat": 4,
 "nbformat_minor": 2
}
